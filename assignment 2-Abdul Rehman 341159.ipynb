{
 "cells": [
  {
   "cell_type": "markdown",
   "id": "a2887ec6-9185-4162-a054-d3f1b6bb8469",
   "metadata": {},
   "source": [
    "###Strings Assignments"
   ]
  },
  {
   "cell_type": "markdown",
   "id": "17c5b419-97d0-41b6-a77e-169a579e5ca1",
   "metadata": {},
   "source": [j
    "1. Write a program that accepts a string from user. Your program should count and display number of\n",
    "vowels in that string. "
   ]
  },
  {
   "cell_type": "code",
   "execution_count": 12,
   "id": "d9c582e4-9d81-4c7f-b600-50a7a843edce",
   "metadata": {},
   "outputs": [
    {
     "name": "stdin",
     "output_type": "stream",
     "text": [
      "enter any alphabetical values : habib\n"
     ]
    },
    {
     "name": "stdout",
     "output_type": "stream",
     "text": [
      "vovel in entered string is  2\n"
     ]
    }
   ],
   "source": [
    "Words = str(input(\"enter any alphabetical values :\"))\n",
    "vovel = \"aeiouAEIOS\"\n",
    "vovel_count=0\n",
    "for char in Words:\n",
    "    if char in vovel:\n",
    "        vovel_count=vovel_count +1\n",
    "print(\"vovel in entered string is \",vovel_count)"
   ]
  },
  {
   "cell_type": "markdown",
   "id": "04976609-aa74-48c5-ac2f-6071da46df01",
   "metadata": {},
   "source": [
    "2. Write a program that reads a string from keyboard and display:\n",
    "* The number of uppercase letters in the string\n",
    "* The number of lowercase letters in the string\n",
    "* The number of digits in the string\n",
    "* The number of whitespace characters in the string"
   ]
  },
  {
   "cell_type": "code",
   "execution_count": 14,
   "id": "b27d014e-a6a1-4206-85eb-e4bd5a2800c0",
   "metadata": {},
   "outputs": [
    {
     "name": "stdin",
     "output_type": "stream",
     "text": [
      "Enter any alphabetical values:  Abdulrehman 123\n"
     ]
    },
    {
     "name": "stdout",
     "output_type": "stream",
     "text": [
      "Number of uppercase letters: 1\n",
      "Number of lowercase letters: 10\n",
      "Number of digits: 3\n",
      "Number of whitespace characters: 1\n"
     ]
    }
   ],
   "source": [
    "words = input(\"Enter any alphabetical values: \")\n",
    "upper_case_count = 0\n",
    "lower_case_count = 0\n",
    "digit_count = 0\n",
    "space_count = 0\n",
    "\n",
    "for char in words:\n",
    "    if char.isupper():\n",
    "        upper_case_count += 1\n",
    "    elif char.islower():\n",
    "        lower_case_count += 1\n",
    "    elif char.isdigit():\n",
    "        digit_count += 1\n",
    "    elif char.isspace():\n",
    "        space_count += 1\n",
    "\n",
    "# Display the counts\n",
    "print(\"Number of uppercase letters:\", upper_case_count)\n",
    "print(\"Number of lowercase letters:\", lower_case_count)\n",
    "print(\"Number of digits:\", digit_count)\n",
    "print(\"Number of whitespace characters:\", space_count)\n"
   ]
  },
  {
   "cell_type": "markdown",
   "id": "933666d0-7063-4cf0-88e0-d13d63d0f37a",
   "metadata": {},
   "source": [
    "3. Write a Python program that accepts a string from user. Your program should create and display a\n",
    "new string where the first and last characters have been exchanged. "
   ]
  },
  {
   "cell_type": "markdown",
   "id": "1570ce66-dd18-4670-9a96-b9731355e906",
   "metadata": {},
   "source": [
    "user_input = input(\"Enter a string: \")\n",
    "new_string = user_input[-1] + user_input [1:-1] +user_input[0]\n",
    "print(\"New string with first and last characters exchanged:\", new_string)\n"
   ]
  },
  {
   "cell_type": "markdown",
   "id": "c59c1109-ed0a-4c5b-835f-05fcfb6d6684",
   "metadata": {},
   "source": [
    "4. Write a Python program that accepts a string from user. Your program should create a new string in\n",
    "reverse of first string and display it. "
   ]
  },
  {
   "cell_type": "code",
   "execution_count": 52,
   "id": "0686c411-ed5b-4d9e-9dbb-f7b57541330b",
   "metadata": {},
   "outputs": [
    {
     "name": "stdin",
     "output_type": "stream",
     "text": [
      "enter a string : hello\n"
     ]
    },
    {
     "name": "stdout",
     "output_type": "stream",
     "text": [
      "olleh\n"
     ]
    }
   ],
   "source": [
    "user_input= input(\"enter a string :\" )\n",
    "rev = user_input [::-1]\n",
    "print(rev)"
   ]
  },
  {
   "cell_type": "markdown",
   "id": "4bebcfb7-6244-40bc-bdf9-863460f74c2e",
   "metadata": {},
   "source": [
    "Write a Python program that accepts a string from user. Your program should create a new string by\n",
    "shifting one position to left"
   ]
  },
  {
   "cell_type": "code",
   "execution_count": 58,
   "id": "eaf66b25-cc8a-4e24-8227-0737431d29f2",
   "metadata": {},
   "outputs": [
    {
     "name": "stdin",
     "output_type": "stream",
     "text": [
      "enter string : lab\n"
     ]
    },
    {
     "name": "stdout",
     "output_type": "stream",
     "text": [
      "abl\n"
     ]
    }
   ],
   "source": [
    "user_input = input (\"enter string :\")\n",
    "sap= user_input[1:] +user_input[0]\n",
    "print (sap)"
   ]
  },
  {
   "cell_type": "markdown",
   "id": "06b76a18-7857-41ac-90bb-b97a5a5fc26e",
   "metadata": {},
   "source": [
    "6. Write a program that asks the user to input his name and print its initials. Assuming that the user\n",
    "always types first name, middle name and last name and does not include any unnecessary spaces. "
   ]
  },
  {
   "cell_type": "code",
   "execution_count": 61,
   "id": "2d434343-3da4-4702-bd83-763499d27fb4",
   "metadata": {},
   "outputs": [
    {
     "name": "stdin",
     "output_type": "stream",
     "text": [
      "enter you first name : Abdul\n",
      "enter you middle name : Rehman\n",
      "enter you last name : Khuwaja\n"
     ]
    },
    {
     "name": "stdout",
     "output_type": "stream",
     "text": [
      "A . R . K .\n"
     ]
    }
   ],
   "source": [
    "user_input1=input(\"enter you first name :\")\n",
    "user_input2=input(\"enter you middle name :\")\n",
    "user_input3=input(\"enter you last name :\")\n",
    "let= user_input1[0]\n",
    "let2= user_input2[0]\n",
    "let3=user_input3[0]\n",
    "print(let,\".\",let2,\".\",let3,\".\")"
   ]
  },
  {
   "cell_type": "markdown",
   "id": "20e75b59-6e2b-47aa-b2e6-4a6498b06b2e",
   "metadata": {},
   "source": [
    "7. A palindrome is a string that reads the same backward as forward. For example, the words dad,\n",
    "madam and radar are all palindromes. Write a programs that determines whether the string is a\n",
    "palindrome"
   ]
  },
  {
   "cell_type": "code",
   "execution_count": 64,
   "id": "75604920-e11e-46f7-a44b-4b7e16736f87",
   "metadata": {},
   "outputs": [
    {
     "name": "stdin",
     "output_type": "stream",
     "text": [
      "enter a string : dad\n"
     ]
    },
    {
     "name": "stdout",
     "output_type": "stream",
     "text": [
      "this word is palindrome\n"
     ]
    }
   ],
   "source": [
    "user_input = input(\"enter a string :\")\n",
    "rev = user_input[::-1]\n",
    "if user_input ==rev:\n",
    "    print(\"this word is palindrome\")\n",
    "else:\n",
    "    print(\"this word is not palindrome\")"
   ]
  },
  {
   "cell_type": "markdown",
   "id": "98e8a3e2-341a-4a8d-b6b7-70a6cbb51ee5",
   "metadata": {},
   "source": [
    "8. Write a program that display following output:\n",
    "SHIFT\n",
    "HIFTS\n",
    "IFTSH\n",
    "FTSHI\n",
    "TSHIF\n",
    "SHIFT"
   ]
  },
  {
   "cell_type": "code",
   "execution_count": null,
   "id": "674db17f-be08-4e77-82de-fd72ec1b1dc5",
   "metadata": {},
   "outputs": [],
   "source": [
    "user_input = input(\"enter a string :\")\n",
    "rev =user_input[::-1]\n"
   ]
  }
 ],
 "metadata": {
  "kernelspec": {
   "display_name": "Python 3 (ipykernel)",
   "language": "python",
   "name": "python3"
  },
  "language_info": {
   "codemirror_mode": {
    "name": "ipython",
    "version": 3
   },
   "file_extension": ".py",
   "mimetype": "text/x-python",
   "name": "python",
   "nbconvert_exporter": "python",
   "pygments_lexer": "ipython3",
   "version": "3.12.7"
  }
 },
 "nbformat": 4,
 "nbformat_minor": 5
}
